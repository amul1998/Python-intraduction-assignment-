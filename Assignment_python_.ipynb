{
  "nbformat": 4,
  "nbformat_minor": 0,
  "metadata": {
    "colab": {
      "provenance": []
    },
    "kernelspec": {
      "name": "python3",
      "display_name": "Python 3"
    },
    "language_info": {
      "name": "python"
    }
  },
  "cells": [
    {
      "cell_type": "code",
      "execution_count": null,
      "metadata": {
        "id": "sd53WOYIf9mU"
      },
      "outputs": [],
      "source": []
    },
    {
      "cell_type": "markdown",
      "source": [
        "Q1.What is Python, and why is it popular?\n",
        "\n",
        "Ans:Python is a high-level, general-purpose programming language that is known for its readable and easy-to-understand syntax.\n",
        "  Python's popularity comes from its ease of learning, versatility, large ecosystem of libraries and tools, and strong community support.\n",
        "\n",
        "Q2.What is an interpreter in Python?\n",
        "\n",
        "Ans:An interpreter in Python is a program that reads and executes Python code line-by-line\n",
        "\n",
        "Q3.What are pre-defined keywords in Python?\n",
        "\n",
        "Ans:False, None, True, and, as, assert, break, class, continue , def,del, elif,else,except,finally,for,from,global,if,import,in,is,lambda,nonlocal,not,or,pass,raise,return, try ,while, with ,yield\n",
        "\n",
        "Q4.Can keywords be used as variable names?\n",
        "\n",
        "Ans:No, keywords cannot be used as variable names in Python.\n",
        "\n",
        "Q5. What is mutability in Python?\n",
        "\n",
        "Ans:Mutability in Python is the ability of an object to be changed after it is created.\n",
        "\n",
        "Q6. Why are lists mutable, but tuples are immutable?\n",
        "\n",
        "Ans:Because their contents cannot be changed after creation.\n",
        "\n",
        "Q7. What is the difference between “==” and “is” operators in Python\n",
        "\n",
        "Ans:”==” evaluates whether the values of two objects are the same “is” are used to compare objects based on their identity.\n",
        "\n",
        "Q8. What are logical operators in Python?\n",
        "\n",
        "Ans:Logical operators are used to combine multiple conditions together and evaluate them as a single boolean expression. logical operators in Python: “and”, “or”, and “no”.\n",
        "\n",
        "Q9.What is type casting in Python?\n",
        "\n",
        "Ans:Type casting is a process that converts a variable's data type into another data type.\n",
        "\n",
        "Q10. What is the difference between implicit and explicit type casting?\n",
        "\n",
        "Ans:Implicit type casting happens automatically, while explicit type casting requires manual intervention.\n",
        "\n",
        "Q11. What is the purpose of conditional statements in Python?\n",
        "\n",
        "Ans:The purpose of conditional statements in Python is to control the flow of a program by making decisions based on certain conditions.\n",
        "\n",
        "Q12. How does the elif statement work?\n",
        "\n",
        "Ans:In Python, elif is short for \"else if\" and is used when the first if statement isn't true, but you want to check for another condition. Meaning, if statements pair up with elif and else statements to perform a series of checks.\n",
        "\n",
        "Q13. What is the difference between for and while loops?\n",
        "\n",
        "Ans:The main difference between a for loop and a while loop is that a for loop is used when the number of iterations is known, while a while loop is used when the number of iterations is unknown And To do number calculations, both while and for loops can be used, but typically a for loop is preferred if you know the exact number of iterations.\n",
        "\n",
        "Q14.Describe a scenario where a while loop is more suitable than a for loop.\n",
        "\n",
        "Ans:You would use a while loop if you do not know how many times a loop will need to run because while loops are ideal when the number of iterations is not predetermined. To do number calculations, both while and for loops can be\n",
        "\n",
        "\n",
        "\n",
        "\n",
        "\n",
        "\n",
        "\n",
        "\n",
        "  \n",
        "\n",
        "\n"
      ],
      "metadata": {
        "id": "U51N5UcGgpsP"
      }
    },
    {
      "cell_type": "markdown",
      "source": [
        "**Practical Questions**\n",
        "\n",
        "1.Write a Python program to print \"Hello, World!\n",
        "  \n",
        "  "
      ],
      "metadata": {
        "id": "5wqrYRaZhohP"
      }
    },
    {
      "cell_type": "code",
      "source": [
        "print(\"Hello, World!\")"
      ],
      "metadata": {
        "colab": {
          "base_uri": "https://localhost:8080/"
        },
        "id": "hyYFTJhQ12ph",
        "outputId": "e28d86a6-c648-4fd7-9cfd-b49634808dbf"
      },
      "execution_count": null,
      "outputs": [
        {
          "output_type": "stream",
          "name": "stdout",
          "text": [
            "Hello, World!\n"
          ]
        }
      ]
    },
    {
      "cell_type": "markdown",
      "source": [
        "2. Write a Python program that displays your name and age."
      ],
      "metadata": {
        "id": "rcBHSsqd2OyF"
      }
    },
    {
      "cell_type": "code",
      "source": [
        "# Define variables for name and age\n",
        "name = \"John Doe\"  # Replace with your name\n",
        "age = 25  # Replace with your age\n",
        "\n",
        "# Display the name and age\n",
        "print(\"Name:\", name)\n",
        "print(\"Age:\", age)"
      ],
      "metadata": {
        "colab": {
          "base_uri": "https://localhost:8080/"
        },
        "id": "rGJaqxjK2FWG",
        "outputId": "55a30b02-f5c4-4652-cc99-dd97f15f9754"
      },
      "execution_count": null,
      "outputs": [
        {
          "output_type": "stream",
          "name": "stdout",
          "text": [
            "Name: John Doe\n",
            "Age: 25\n"
          ]
        }
      ]
    },
    {
      "cell_type": "markdown",
      "source": [
        "3. Write code to print all the pre-defined keywords in Python using the keyword library"
      ],
      "metadata": {
        "id": "slzcTirh2r5-"
      }
    },
    {
      "cell_type": "code",
      "source": [
        "import keyword\n",
        "\n",
        "# Print all the pre-defined keywords in Python\n",
        "print(\"Python Keywords:\", keyword.kwlist)"
      ],
      "metadata": {
        "colab": {
          "base_uri": "https://localhost:8080/"
        },
        "id": "NhrYt93g2hqn",
        "outputId": "09714d7f-2f5d-43df-8d35-039dcd6b5c4d"
      },
      "execution_count": null,
      "outputs": [
        {
          "output_type": "stream",
          "name": "stdout",
          "text": [
            "Python Keywords: ['False', 'None', 'True', 'and', 'as', 'assert', 'async', 'await', 'break', 'class', 'continue', 'def', 'del', 'elif', 'else', 'except', 'finally', 'for', 'from', 'global', 'if', 'import', 'in', 'is', 'lambda', 'nonlocal', 'not', 'or', 'pass', 'raise', 'return', 'try', 'while', 'with', 'yield']\n"
          ]
        }
      ]
    },
    {
      "cell_type": "markdown",
      "source": [
        "4. Write a program that checks if a given word is a Python keyword"
      ],
      "metadata": {
        "id": "B2EufRaV26Av"
      }
    },
    {
      "cell_type": "code",
      "source": [
        "import keyword\n",
        "\n",
        "# Function to check if a word is a Python keyword\n",
        "def is_keyword(word):\n",
        "    if keyword.iskeyword(word):\n",
        "        return True\n",
        "    else:\n",
        "        return False\n",
        "\n",
        "# Input word from the user\n",
        "word = input(\"Enter a word: \")\n",
        "\n",
        "# Check and display whether the word is a Python keyword\n",
        "if is_keyword(word):\n",
        "    print(f\"'{word}' is a Python keyword.\")\n",
        "else:\n",
        "    print(f\"'{word}' is not a Python keyword.\")"
      ],
      "metadata": {
        "colab": {
          "base_uri": "https://localhost:8080/"
        },
        "id": "YA4YMMZR23LX",
        "outputId": "bc9ba313-3dbe-489f-cb09-6738d2e7aa83"
      },
      "execution_count": null,
      "outputs": [
        {
          "output_type": "stream",
          "name": "stdout",
          "text": [
            "Enter a word: true\n",
            "'true' is not a Python keyword.\n"
          ]
        }
      ]
    },
    {
      "cell_type": "markdown",
      "source": [
        "5. Create a list and tuple in Python, and demonstrate how attempting to change an element works differently for each."
      ],
      "metadata": {
        "id": "AFtIxP3z3SJq"
      }
    },
    {
      "cell_type": "code",
      "source": [
        "# Create a list and a tuple\n",
        "my_list = [1, 2, 3, 4, 5]\n",
        "my_tuple = (1, 2, 3, 4, 5)\n",
        "\n",
        "# Attempt to change an element in the list\n",
        "print(\"Original List:\", my_list)\n",
        "my_list[2] = 10  # Changing the 3rd element (index 2) in the list\n",
        "print(\"Updated List:\", my_list)\n",
        "\n",
        "# Attempt to change an element in the tuple\n",
        "print(\"\\nOriginal Tuple:\", my_tuple)\n",
        "try:\n",
        "    my_tuple[2] = 10  # Trying to change the 3rd element (index 2) in the tuple\n",
        "except TypeError as e:\n",
        "    print(\"Error when trying to modify the tuple:\", e)"
      ],
      "metadata": {
        "colab": {
          "base_uri": "https://localhost:8080/"
        },
        "id": "tqqwfJgS3HE5",
        "outputId": "84b9ff8e-8c3c-4487-e8a1-e49bb606aeed"
      },
      "execution_count": null,
      "outputs": [
        {
          "output_type": "stream",
          "name": "stdout",
          "text": [
            "Original List: [1, 2, 3, 4, 5]\n",
            "Updated List: [1, 2, 10, 4, 5]\n",
            "\n",
            "Original Tuple: (1, 2, 3, 4, 5)\n",
            "Error when trying to modify the tuple: 'tuple' object does not support item assignment\n"
          ]
        }
      ]
    },
    {
      "cell_type": "markdown",
      "source": [
        "6.Write a function to demonstrate the behavior of mutable and immutable arguments.\n",
        " we will take a tuple and try to modify its value at a particular index and print it. As a tuple is an immutable object, it will throw an error when we try to modify it."
      ],
      "metadata": {
        "id": "4SisTnx331VU"
      }
    },
    {
      "cell_type": "code",
      "source": [
        "# Python code to test that\n",
        "# tuples are immutable\n",
        "\n",
        "tuple1 = (0, 1, 2, 3)\n",
        "tuple1[0] = 4\n",
        "print(tuple1)"
      ],
      "metadata": {
        "colab": {
          "base_uri": "https://localhost:8080/",
          "height": 193
        },
        "id": "I62Sm5-q5UTH",
        "outputId": "a2bd0d15-8b6c-4224-9a9f-ef01dd504f44"
      },
      "execution_count": null,
      "outputs": [
        {
          "output_type": "error",
          "ename": "TypeError",
          "evalue": "'tuple' object does not support item assignment",
          "traceback": [
            "\u001b[0;31m---------------------------------------------------------------------------\u001b[0m",
            "\u001b[0;31mTypeError\u001b[0m                                 Traceback (most recent call last)",
            "\u001b[0;32m<ipython-input-8-dc6e9b1378e4>\u001b[0m in \u001b[0;36m<cell line: 5>\u001b[0;34m()\u001b[0m\n\u001b[1;32m      3\u001b[0m \u001b[0;34m\u001b[0m\u001b[0m\n\u001b[1;32m      4\u001b[0m \u001b[0mtuple1\u001b[0m \u001b[0;34m=\u001b[0m \u001b[0;34m(\u001b[0m\u001b[0;36m0\u001b[0m\u001b[0;34m,\u001b[0m \u001b[0;36m1\u001b[0m\u001b[0;34m,\u001b[0m \u001b[0;36m2\u001b[0m\u001b[0;34m,\u001b[0m \u001b[0;36m3\u001b[0m\u001b[0;34m)\u001b[0m\u001b[0;34m\u001b[0m\u001b[0;34m\u001b[0m\u001b[0m\n\u001b[0;32m----> 5\u001b[0;31m \u001b[0mtuple1\u001b[0m\u001b[0;34m[\u001b[0m\u001b[0;36m0\u001b[0m\u001b[0;34m]\u001b[0m \u001b[0;34m=\u001b[0m \u001b[0;36m4\u001b[0m\u001b[0;34m\u001b[0m\u001b[0;34m\u001b[0m\u001b[0m\n\u001b[0m\u001b[1;32m      6\u001b[0m \u001b[0mprint\u001b[0m\u001b[0;34m(\u001b[0m\u001b[0mtuple1\u001b[0m\u001b[0;34m)\u001b[0m\u001b[0;34m\u001b[0m\u001b[0;34m\u001b[0m\u001b[0m\n",
            "\u001b[0;31mTypeError\u001b[0m: 'tuple' object does not support item assignment"
          ]
        }
      ]
    },
    {
      "cell_type": "markdown",
      "source": [
        ">> example for mutable"
      ],
      "metadata": {
        "id": "-K2NrJVZ575r"
      }
    },
    {
      "cell_type": "code",
      "source": [
        "my_list = [1, 2, 3]\n",
        "my_list.append(4)\n",
        "print(my_list)\n",
        "\n",
        "my_list.insert(1, 5)\n",
        "print(my_list)\n",
        "\n",
        "my_list.remove(2)\n",
        "print(my_list)\n",
        "\n",
        "popped_element = my_list.pop(0)\n",
        "print(my_list)\n",
        "print(popped_element)"
      ],
      "metadata": {
        "colab": {
          "base_uri": "https://localhost:8080/"
        },
        "id": "dyF4NlYb6HES",
        "outputId": "6989c684-d790-40c5-cb83-b79e0339a7bc"
      },
      "execution_count": null,
      "outputs": [
        {
          "output_type": "stream",
          "name": "stdout",
          "text": [
            "[1, 2, 3, 4]\n",
            "[1, 5, 2, 3, 4]\n",
            "[1, 5, 3, 4]\n",
            "[5, 3, 4]\n",
            "1\n"
          ]
        }
      ]
    },
    {
      "cell_type": "markdown",
      "source": [
        "7 Write a function to demonstrate the behavior of mutable and immutable arguments"
      ],
      "metadata": {
        "id": "wnfhJf-t6Wi1"
      }
    },
    {
      "cell_type": "code",
      "source": [
        "# Python code to test that\n",
        "# strings are immutable\n",
        "\n",
        "message = \"Welcome to GeeksforGeeks\"\n",
        "message[0] = 'p'\n",
        "print(message)"
      ],
      "metadata": {
        "colab": {
          "base_uri": "https://localhost:8080/",
          "height": 193
        },
        "id": "pr3gM_Nn6cW8",
        "outputId": "01c4f5d0-8619-49e6-cd40-9db010ff0018"
      },
      "execution_count": null,
      "outputs": [
        {
          "output_type": "error",
          "ename": "TypeError",
          "evalue": "'str' object does not support item assignment",
          "traceback": [
            "\u001b[0;31m---------------------------------------------------------------------------\u001b[0m",
            "\u001b[0;31mTypeError\u001b[0m                                 Traceback (most recent call last)",
            "\u001b[0;32m<ipython-input-10-6d5f5c920e95>\u001b[0m in \u001b[0;36m<cell line: 5>\u001b[0;34m()\u001b[0m\n\u001b[1;32m      3\u001b[0m \u001b[0;34m\u001b[0m\u001b[0m\n\u001b[1;32m      4\u001b[0m \u001b[0mmessage\u001b[0m \u001b[0;34m=\u001b[0m \u001b[0;34m\"Welcome to GeeksforGeeks\"\u001b[0m\u001b[0;34m\u001b[0m\u001b[0;34m\u001b[0m\u001b[0m\n\u001b[0;32m----> 5\u001b[0;31m \u001b[0mmessage\u001b[0m\u001b[0;34m[\u001b[0m\u001b[0;36m0\u001b[0m\u001b[0;34m]\u001b[0m \u001b[0;34m=\u001b[0m \u001b[0;34m'p'\u001b[0m\u001b[0;34m\u001b[0m\u001b[0;34m\u001b[0m\u001b[0m\n\u001b[0m\u001b[1;32m      6\u001b[0m \u001b[0mprint\u001b[0m\u001b[0;34m(\u001b[0m\u001b[0mmessage\u001b[0m\u001b[0;34m)\u001b[0m\u001b[0;34m\u001b[0m\u001b[0;34m\u001b[0m\u001b[0m\n",
            "\u001b[0;31mTypeError\u001b[0m: 'str' object does not support item assignment"
          ]
        }
      ]
    },
    {
      "cell_type": "markdown",
      "source": [
        "example for mutable"
      ],
      "metadata": {
        "id": "qp-LZMma6spN"
      }
    },
    {
      "cell_type": "code",
      "source": [
        "my_list = [1, 2, 3]\n",
        "my_list.append(4)\n",
        "print(my_list)\n",
        "\n",
        "my_list.insert(1, 5)\n",
        "print(my_list)\n",
        "\n",
        "my_list.remove(2)\n",
        "print(my_list)\n",
        "\n",
        "popped_element = my_list.pop(0)\n",
        "print(my_list)\n",
        "print(popped_element)"
      ],
      "metadata": {
        "colab": {
          "base_uri": "https://localhost:8080/"
        },
        "id": "Y6SNsUeR6uk-",
        "outputId": "93c27359-9085-46ef-881a-0d8760e9772a"
      },
      "execution_count": null,
      "outputs": [
        {
          "output_type": "stream",
          "name": "stdout",
          "text": [
            "[1, 2, 3, 4]\n",
            "[1, 5, 2, 3, 4]\n",
            "[1, 5, 3, 4]\n",
            "[5, 3, 4]\n",
            "1\n"
          ]
        }
      ]
    },
    {
      "cell_type": "markdown",
      "source": [
        "8. Write a program to demonstrate the use of logical operators"
      ],
      "metadata": {
        "id": "eMQjcG256z5_"
      }
    },
    {
      "cell_type": "code",
      "source": [
        "# Defining variables\n",
        "a = 10\n",
        "b = 20\n",
        "c = 5\n",
        "\n",
        "# Using the 'and' logical operator\n",
        "print(\"a > b and b > c:\", a > b and b > c)  # False and True, results in False\n",
        "\n",
        "# Using the 'or' logical operator\n",
        "print(\"a > b or b > c:\", a > b or b > c)  # False or True, results in True\n",
        "\n",
        "# Using the 'not' logical operator\n",
        "print(\"not (a > b):\", not (a > b))  # not False, results in True\n",
        "\n",
        "# A more complex example with multiple logical operators\n",
        "print(\"a > b and (b > c or c > a):\", a > b and (b > c or c > a))  # False and (True or False), results in False\n"
      ],
      "metadata": {
        "colab": {
          "base_uri": "https://localhost:8080/"
        },
        "id": "8nXdXWKT7Cep",
        "outputId": "19c2e7b8-fc79-4549-b151-1eb3e5eb1919"
      },
      "execution_count": null,
      "outputs": [
        {
          "output_type": "stream",
          "name": "stdout",
          "text": [
            "a > b and b > c: False\n",
            "a > b or b > c: True\n",
            "not (a > b): True\n",
            "a > b and (b > c or c > a): False\n"
          ]
        }
      ]
    },
    {
      "cell_type": "markdown",
      "source": [
        "9. Write a Python program to convert user input from string to integer, float, and boolean types"
      ],
      "metadata": {
        "id": "0nD-SFfw7JPR"
      }
    },
    {
      "cell_type": "code",
      "source": [
        "# Getting input from the user as a string\n",
        "user_input = input(\"Enter a value: \")\n",
        "\n",
        "# Convert the string input to an integer\n",
        "try:\n",
        "    int_value = int(user_input)\n",
        "    print(f\"Converted to integer: {int_value}\")\n",
        "except ValueError:\n",
        "    print(\"Cannot convert to integer.\")\n",
        "\n",
        "# Convert the string input to a float\n",
        "try:\n",
        "    float_value = float(user_input)\n",
        "    print(f\"Converted to float: {float_value}\")\n",
        "except ValueError:\n",
        "    print(\"Cannot convert to float.\")\n",
        "\n",
        "# Convert the string input to a boolean\n",
        "# A common approach is to consider \"True\" or \"true\" as True and any other value as False.\n",
        "boolean_value = user_input.lower() in ['true', '1', 't', 'y', 'yes']\n",
        "print(f\"Converted to boolean: {boolean_value}\")\n"
      ],
      "metadata": {
        "colab": {
          "base_uri": "https://localhost:8080/"
        },
        "id": "etn0lka_7vGc",
        "outputId": "8f946071-9981-4c71-abd1-9646cb22bdc1"
      },
      "execution_count": null,
      "outputs": [
        {
          "output_type": "stream",
          "name": "stdout",
          "text": [
            "Enter a value: 43\n",
            "Converted to integer: 43\n",
            "Converted to float: 43.0\n",
            "Converted to boolean: False\n"
          ]
        }
      ]
    },
    {
      "cell_type": "markdown",
      "source": [],
      "metadata": {
        "id": "UlrmE0hB8GUH"
      }
    },
    {
      "cell_type": "markdown",
      "source": [
        "10. Write code to demonstrate type casting with list elements"
      ],
      "metadata": {
        "id": "1RL9QKvE8Hr_"
      }
    },
    {
      "cell_type": "code",
      "source": [
        "# Original list with mixed data types as strings\n",
        "list_of_strings = [\"1\", \"3.14\", \"True\", \"50\", \"False\"]\n",
        "\n",
        "# Convert elements to different types\n",
        "\n",
        "# Convert string elements to integers (if possible)\n",
        "list_of_integers = [int(x) if x.isdigit() else None for x in list_of_strings]\n",
        "print(\"Converted to integers:\", list_of_integers)\n",
        "\n",
        "# Convert string elements to floats (if possible)\n",
        "list_of_floats = [float(x) if x.replace('.', '', 1).isdigit() else None for x in list_of_strings]\n",
        "print(\"Converted to floats:\", list_of_floats)\n",
        "\n",
        "# Convert string elements to booleans\n",
        "# Treating \"True\", \"true\", \"1\", \"yes\" as True, and other values as False\n",
        "list_of_booleans = [x.lower() in ['true', '1', 't', 'y', 'yes'] for x in list_of_strings]\n",
        "print(\"Converted to booleans:\", list_of_booleans)\n"
      ],
      "metadata": {
        "colab": {
          "base_uri": "https://localhost:8080/"
        },
        "id": "0QP6GKWj80x8",
        "outputId": "35980f3a-2969-40e3-a9c3-9bd449e518ea"
      },
      "execution_count": null,
      "outputs": [
        {
          "output_type": "stream",
          "name": "stdout",
          "text": [
            "Converted to integers: [1, None, None, 50, None]\n",
            "Converted to floats: [1.0, 3.14, None, 50.0, None]\n",
            "Converted to booleans: [True, False, True, False, False]\n"
          ]
        }
      ]
    },
    {
      "cell_type": "markdown",
      "source": [
        "11. Write a program that checks if a number is positive, negative, or zero"
      ],
      "metadata": {
        "id": "iTQyTqbj84uE"
      }
    },
    {
      "cell_type": "code",
      "source": [
        "# Input number from the user\n",
        "num = float(input(\"Enter a number: \"))\n",
        "\n",
        "# Check if the number is positive, negative, or zero\n",
        "if num > 0:\n",
        "    print(f\"{num} is a positive number.\")\n",
        "elif num < 0:\n",
        "    print(f\"{num} is a negative number.\")\n",
        "else:\n",
        "    print(f\"{num} is zero.\")\n"
      ],
      "metadata": {
        "colab": {
          "base_uri": "https://localhost:8080/"
        },
        "id": "zrR2zRuI9MFV",
        "outputId": "03fe02eb-ee38-4a2e-ba58-f3eae8da0d08"
      },
      "execution_count": null,
      "outputs": [
        {
          "output_type": "stream",
          "name": "stdout",
          "text": [
            "Enter a number: 88\n",
            "88.0 is a positive number.\n"
          ]
        }
      ]
    },
    {
      "cell_type": "markdown",
      "source": [
        "12.Write a for loop to print numbers from 1 to 10"
      ],
      "metadata": {
        "id": "e7qTGQ9D9TvP"
      }
    },
    {
      "cell_type": "code",
      "source": [
        "# Using a for loop to print numbers from 1 to 10\n",
        "for i in range(1, 11):\n",
        "    print(i)"
      ],
      "metadata": {
        "colab": {
          "base_uri": "https://localhost:8080/"
        },
        "id": "wYX4lcZ89bAv",
        "outputId": "b3c27db7-335e-47d9-c6ee-00ecb207cccd"
      },
      "execution_count": null,
      "outputs": [
        {
          "output_type": "stream",
          "name": "stdout",
          "text": [
            "1\n",
            "2\n",
            "3\n",
            "4\n",
            "5\n",
            "6\n",
            "7\n",
            "8\n",
            "9\n",
            "10\n"
          ]
        }
      ]
    },
    {
      "cell_type": "markdown",
      "source": [
        "13. Write a Python program to find the sum of all even numbers between 1 and 50"
      ],
      "metadata": {
        "id": "gvBgekoa9iJX"
      }
    },
    {
      "cell_type": "code",
      "source": [
        "# Initialize a variable to store the sum\n",
        "sum_of_even_numbers = 0\n",
        "\n",
        "# Loop through numbers from 1 to 50\n",
        "for num in range(1, 51):\n",
        "    if num % 2 == 0:  # Check if the number is even\n",
        "        sum_of_even_numbers += num\n",
        "\n",
        "# Print the sum of all even numbers\n",
        "print(\"The sum of all even numbers between 1 and 50 is:\", sum_of_even_numbers)\n"
      ],
      "metadata": {
        "colab": {
          "base_uri": "https://localhost:8080/"
        },
        "id": "NyrmtWTJ9q-Y",
        "outputId": "ebec41b5-38b8-49b5-9be2-ffbf370f4e51"
      },
      "execution_count": null,
      "outputs": [
        {
          "output_type": "stream",
          "name": "stdout",
          "text": [
            "The sum of all even numbers between 1 and 50 is: 650\n"
          ]
        }
      ]
    },
    {
      "cell_type": "markdown",
      "source": [
        "14. Write a program to reverse a string using a while loop"
      ],
      "metadata": {
        "id": "MzKJQ_ms95FK"
      }
    },
    {
      "cell_type": "code",
      "source": [
        "# Input string from the user\n",
        "input_string = input(\"Enter a string: \")\n",
        "\n",
        "# Initialize an empty string to store the reversed string\n",
        "reversed_string = \"\"\n",
        "\n",
        "# Initialize a variable to iterate from the last character to the first\n",
        "index = len(input_string) - 1\n",
        "\n",
        "# Use a while loop to reverse the string\n",
        "while index >= 0:\n",
        "    reversed_string += input_string[index]\n",
        "    index -= 1\n",
        "\n",
        "# Print the reversed string\n",
        "print(\"Reversed string:\", reversed_string)\n"
      ],
      "metadata": {
        "colab": {
          "base_uri": "https://localhost:8080/"
        },
        "id": "-0U6nWKu97s5",
        "outputId": "97e2d423-3c61-46c8-fad5-1cdd128c57d0"
      },
      "execution_count": null,
      "outputs": [
        {
          "output_type": "stream",
          "name": "stdout",
          "text": [
            "Enter a string: \"amul\"\n",
            "Reversed string: \"luma\"\n"
          ]
        }
      ]
    },
    {
      "cell_type": "markdown",
      "source": [
        "15.Write a Python program to calculate the factorial of a number provided by the user using a while loop"
      ],
      "metadata": {
        "id": "MHEzD9IK-XjV"
      }
    },
    {
      "cell_type": "code",
      "source": [
        "# Input number from the user\n",
        "num = int(input(\"Enter a number to calculate its factorial: \"))\n",
        "\n",
        "# Initialize the factorial result to 1 (since factorial of 0 is 1)\n",
        "factorial = 1\n",
        "\n",
        "# Check if the number is non-negative\n",
        "if num < 0:\n",
        "    print(\"Factorial is not defined for negative numbers.\")\n",
        "else:\n",
        "    # Use a while loop to calculate the factorial\n",
        "    while num > 1:\n",
        "        factorial *= num\n",
        "        num -= 1\n",
        "\n",
        "    # Print the result\n",
        "    print(f\"The factorial is: {factorial}\")\n"
      ],
      "metadata": {
        "colab": {
          "base_uri": "https://localhost:8080/"
        },
        "id": "_EiDClk2-ecw",
        "outputId": "e74fd617-e058-4404-9d81-d042d0659f93"
      },
      "execution_count": null,
      "outputs": [
        {
          "output_type": "stream",
          "name": "stdout",
          "text": [
            "Enter a number to calculate its factorial: 96\n",
            "The factorial is: 991677934870949689209571401541893801158183648651267795444376054838492222809091499987689476037000748982075094738965754305639874560000000000000000000000\n"
          ]
        }
      ]
    },
    {
      "cell_type": "code",
      "source": [],
      "metadata": {
        "id": "REJoqv1T9_XS"
      },
      "execution_count": null,
      "outputs": []
    }
  ]
}