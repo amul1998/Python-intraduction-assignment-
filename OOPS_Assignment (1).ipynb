{
  "nbformat": 4,
  "nbformat_minor": 0,
  "metadata": {
    "colab": {
      "provenance": []
    },
    "kernelspec": {
      "name": "python3",
      "display_name": "Python 3"
    },
    "language_info": {
      "name": "python"
    }
  },
  "cells": [
    {
      "cell_type": "markdown",
      "source": [
        "OOPS  Assignment Questions\n",
        "\n",
        "\n",
        "Q1. What are the five key concepts of Object-Oriented Programming (OOP)?\n",
        "\n",
        "     Ans: The five key concepts of Object-Oriented Programming (OOP) are:\n",
        "          1.Encapsulation\n",
        "          2.Abstraction\n",
        "          3.Inheritance\n",
        "          4.Polymorphism\n",
        "          5.Composition\n",
        "\n",
        "Q2. Write a Python class for a `Car` with attributes for `make`, `model`, and `year`. Include a method to display the car's information.\n",
        "\n",
        "     Ans:\n"
      ],
      "metadata": {
        "id": "9Nyz-hFTKgX-"
      }
    },
    {
      "cell_type": "code",
      "source": [
        "class Car:\n",
        "    def __init__(self, make, model, year):\n",
        "        \"\"\"Initialize the car with make, model, and year.\"\"\"\n",
        "        self.make = make\n",
        "        self.model = model\n",
        "        self.year = year\n",
        "\n",
        "    def display_info(self):\n",
        "        \"\"\"Display the car's information.\"\"\"\n",
        "        print(f\"Car Information:\\nMake: {self.make}\\nModel: {self.model}\\nYear: {self.year}\")\n",
        "\n",
        "\n",
        "# Example usage\n",
        "my_car = Car(\"Honda\", \"Amaze\", 2024)\n",
        "my_car.display_info()\n"
      ],
      "metadata": {
        "colab": {
          "base_uri": "https://localhost:8080/"
        },
        "id": "r9Ki9oO3VAKX",
        "outputId": "6a7e2882-0c48-4028-fa62-938ec2fa1ecb"
      },
      "execution_count": null,
      "outputs": [
        {
          "output_type": "stream",
          "name": "stdout",
          "text": [
            "Car Information:\n",
            "Make: Honda\n",
            "Model: Amaze\n",
            "Year: 2024\n"
          ]
        }
      ]
    },
    {
      "cell_type": "markdown",
      "source": [
        "Q3.  Explain the difference between instance methods and class methods. Provide an example of each.\n",
        "\n",
        "     Ans:\n",
        "     Instance Method: Bound to the instance of the class. It operates on the data that is specific to the instance.\n",
        "     Class Method: Bound to the class itself. It operates on class-level data and does not need an instance to be called.\n",
        "     Instance Method: Can access both instance attributes (via self) and class attributes (via cls), but usually deals with instance attributes.\n",
        "     Class Method: Can only access class-level attributes and can modify them, but cannot directly modify instance-specific attributes.\n",
        "\n",
        "     Example of Instance Method:"
      ],
      "metadata": {
        "id": "rOHmmgcKVO7y"
      }
    },
    {
      "cell_type": "code",
      "source": [
        "class Car:\n",
        "    def __init__(self, make, model, year):\n",
        "        self.make = make\n",
        "        self.model = model\n",
        "        self.year = year\n",
        "\n",
        "    def display_info(self):\n",
        "        \"\"\"Instance method to display car information.\"\"\"\n",
        "        print(f\"{self.year} {self.make} {self.model}\")\n",
        "\n",
        "# Create an instance of the Car class\n",
        "my_car = Car(\"Honda\", \"City\", 2022)\n",
        "\n",
        "# Call the instance method\n",
        "my_car.display_info()"
      ],
      "metadata": {
        "colab": {
          "base_uri": "https://localhost:8080/"
        },
        "id": "xDyUD_SOV7Dk",
        "outputId": "a475556a-d7b5-4ebb-e622-aac045a0700a"
      },
      "execution_count": null,
      "outputs": [
        {
          "output_type": "stream",
          "name": "stdout",
          "text": [
            "2022 Honda City\n"
          ]
        }
      ]
    },
    {
      "cell_type": "markdown",
      "source": [
        "         Example for Class Method"
      ],
      "metadata": {
        "id": "Jaxr9_c7WK_x"
      }
    },
    {
      "cell_type": "code",
      "source": [
        "class Car:\n",
        "    car_count = 0  # Class variable to keep track of the number of cars\n",
        "\n",
        "    def __init__(self, make, model, year):\n",
        "        self.make = make\n",
        "        self.model = model\n",
        "        self.year = year\n",
        "        Car.car_count += 1  # Increment the car count each time a new car is created\n",
        "\n",
        "    @classmethod\n",
        "    def display_car_count(cls):\n",
        "        \"\"\"Class method to display the total number of cars.\"\"\"\n",
        "        print(f\"Total number of cars: {cls.car_count}\")\n",
        "\n",
        "# Create instances of the Car class\n",
        "car1 = Car(\"Honda\", \"City\", 2023)\n",
        "car2 = Car(\"Tata\", \"Curvv\", 2024)\n",
        "\n",
        "# Call the class method\n",
        "Car.display_car_count()\n"
      ],
      "metadata": {
        "colab": {
          "base_uri": "https://localhost:8080/"
        },
        "id": "IBeJp_IIWZmZ",
        "outputId": "cc8a1f1a-b814-457d-a619-2e7324619475"
      },
      "execution_count": null,
      "outputs": [
        {
          "output_type": "stream",
          "name": "stdout",
          "text": [
            "Total number of cars: 2\n"
          ]
        }
      ]
    },
    {
      "cell_type": "markdown",
      "source": [
        "Q4.How does Python implement method overloading? Give an example.\n",
        "\n",
        "     Ans:Method overloading means creating various methods with the same name using different types or parameters. In this case, the method will perform multiple functionalities with the same name. Method overloading is one of the primary concepts in object-oriented programming in Python.\n",
        "     Ex:"
      ],
      "metadata": {
        "id": "u1XvKihIWsJC"
      }
    },
    {
      "cell_type": "code",
      "source": [
        "class MathOperations:\n",
        "    def add(self, a, b=0):\n",
        "        \"\"\"Simulate overloading by using default argument\"\"\"\n",
        "        return a + b\n",
        "\n",
        "# Create an instance of MathOperations\n",
        "math_ops = MathOperations()\n",
        "\n",
        "# Call the add method with one argument (defaults b to 0)\n",
        "print(math_ops.add(5))  # Output: 5\n",
        "\n",
        "# Call the add method with two arguments\n",
        "print(math_ops.add(5, 3))\n"
      ],
      "metadata": {
        "colab": {
          "base_uri": "https://localhost:8080/"
        },
        "id": "TEok640KcZ8l",
        "outputId": "f048c0da-d884-4f38-c9a9-0662ed84add0"
      },
      "execution_count": null,
      "outputs": [
        {
          "output_type": "stream",
          "name": "stdout",
          "text": [
            "5\n",
            "8\n"
          ]
        }
      ]
    },
    {
      "cell_type": "markdown",
      "source": [
        "Q5.What are the three types of access modifiers in Python? How are they denoted?\n",
        "\n",
        "     Ans:A Class in Python has three types of access modifiers:\n",
        "\n",
        "     Public Access Modifier: Theoretically, public methods and fields can be accessed directly by any class.\n",
        "     Denoted By: No underscores (_) before the name.\n",
        "\n",
        "     Protected Access Modifier: Theoretically, protected methods and fields can be accessed within the same class it is declared and its subclass.\n",
        "     Denoted By: A single underscore (_) before the name.\n",
        "\n",
        "     Private Access Modifier: Theoretically, private methods and fields can be only accessed within the same class it is declared.\n",
        "     Denoted By: A double underscore (__) before the name."
      ],
      "metadata": {
        "id": "X96AsrNtc3v2"
      }
    },
    {
      "cell_type": "markdown",
      "source": [
        "Q6.Describe the five types of inheritance in Python. Provide a simple example of multiple inheritance.\n",
        "\n",
        "     Ans:\n",
        "     1.Single Inheritance: Single inheritance enables a derived class to inherit properties from a single parent class, thus enabling code reusability and the addition of new features to existing code.\n",
        "     2.Multiple Inheritance: When a class can be derived from more than one base class this type of inheritance is called multiple inheritances. In multiple inheritances, all the features of the base classes are inherited into the derived class.\n",
        "     3.Multilevel Inheritance :In multilevel inheritance, features of the base class and the derived class are further inherited into the new derived class. This is similar to a relationship representing a child and a grandfather.\n",
        "     4.Hierarchical Inheritance: When more than one derived class are created from a single base this type of inheritance is called hierarchical inheritance. In this program, we have a parent (base) class and two child (derived) classes.\n",
        "     5.Hybrid Inheritance: Inheritance consisting of multiple types of inheritance is called hybrid inheritance.\n",
        "\n",
        "      example of multiple inheritance:"
      ],
      "metadata": {
        "id": "TlclvT6ydovY"
      }
    },
    {
      "cell_type": "code",
      "source": [
        "class ClassA:\n",
        "    def method_a(self):\n",
        "        print(\"Method from ClassA\")\n",
        "\n",
        "class ClassB:\n",
        "    def method_b(self):\n",
        "        print(\"Method from ClassB\")\n",
        "\n",
        "class DerivedClass(ClassA, ClassB):\n",
        "    pass\n",
        "\n",
        "obj = DerivedClass()\n",
        "obj.method_a()\n",
        "obj.method_b()"
      ],
      "metadata": {
        "colab": {
          "base_uri": "https://localhost:8080/"
        },
        "id": "rUM5Ubg6fU11",
        "outputId": "a3f89569-fbf6-4c94-efc5-fd8cdf6926d8"
      },
      "execution_count": null,
      "outputs": [
        {
          "output_type": "stream",
          "name": "stdout",
          "text": [
            "Method from ClassA\n",
            "Method from ClassB\n"
          ]
        }
      ]
    },
    {
      "cell_type": "markdown",
      "source": [
        "Example: A class Bat can inherit from the superclasses Mammal and WingedAnimal. This makes sense because a bat is both a mammal and a winged animal.\n"
      ],
      "metadata": {
        "id": "giI8L8mFf5sx"
      }
    },
    {
      "cell_type": "markdown",
      "source": [
        "Q7.What is the Method Resolution Order (MRO) in Python? How can you retrieve it programmatically?\n",
        "\n",
        "     Ans:The Method Resolution Order (MRO) determines the order in which Python looks for a method or attribute in a class hierarchy during inheritance\n",
        "\n",
        "     You can retrieve the MRO of a class using:\n",
        "\n",
        "     The __mro__ attribute.\n",
        "     The mro() method.\n",
        "\n",
        "Example:"
      ],
      "metadata": {
        "id": "-lA4BdSpgB2n"
      }
    },
    {
      "cell_type": "code",
      "source": [
        "class A:\n",
        "    def method(self):\n",
        "        print(\"Class from A\")\n",
        "\n",
        "class B(A):\n",
        "    def method(self):\n",
        "        print(\"Class from B\")\n",
        "\n",
        "class C(A):\n",
        "    def method(self):\n",
        "        print(\"Class from C\")\n",
        "\n",
        "class D(B, C):\n",
        "    pass\n",
        "\n",
        "# Retrieve MRO programmatically\n",
        "print(D.__mro__)\n",
        "print(D.mro())\n"
      ],
      "metadata": {
        "colab": {
          "base_uri": "https://localhost:8080/"
        },
        "id": "IFXGirAMl5Ng",
        "outputId": "991bfea6-4f27-467f-e771-ef6509ae4abe"
      },
      "execution_count": null,
      "outputs": [
        {
          "output_type": "stream",
          "name": "stdout",
          "text": [
            "(<class '__main__.D'>, <class '__main__.B'>, <class '__main__.C'>, <class '__main__.A'>, <class 'object'>)\n",
            "[<class '__main__.D'>, <class '__main__.B'>, <class '__main__.C'>, <class '__main__.A'>, <class 'object'>]\n"
          ]
        }
      ]
    },
    {
      "cell_type": "markdown",
      "source": [
        "Q8.Create an abstract base class `Shape` with an abstract method `area()`. Then create two subclasses `Circle` and `Rectangle` that implement the `area()` method.\n",
        "\n",
        "    Ans:"
      ],
      "metadata": {
        "id": "AUmatF2Zmd76"
      }
    },
    {
      "cell_type": "code",
      "source": [
        "from abc import ABC, abstractmethod\n",
        "import math\n",
        "\n",
        "# Abstract base class\n",
        "class Shape(ABC):\n",
        "    @abstractmethod\n",
        "    def area(self):\n",
        "        \"\"\"Abstract method to calculate the area of the shape.\"\"\"\n",
        "        pass\n",
        "\n",
        "# Subclass for Circle\n",
        "class Circle(Shape):\n",
        "    def __init__(self, radius):\n",
        "        self.radius = radius\n",
        "\n",
        "    def area(self):\n",
        "        \"\"\"Calculate the area of a circle.\"\"\"\n",
        "        return math.pi * self.radius ** 2\n",
        "\n",
        "# Subclass for Rectangle\n",
        "class Rectangle(Shape):\n",
        "    def __init__(self, width, height):\n",
        "        self.width = width\n",
        "        self.height = height\n",
        "\n",
        "    def area(self):\n",
        "        \"\"\"Calculate the area of a rectangle.\"\"\"\n",
        "        return self.width * self.height\n",
        "\n",
        "# Example usage\n",
        "circle = Circle(5)  # Circle with radius 5\n",
        "rectangle = Rectangle(4, 6)  # Rectangle with width 4 and height 6\n",
        "\n",
        "print(f\"Area of Circle: {circle.area():.2f}\")\n",
        "print(f\"Area of Rectangle: {rectangle.area()}\")\n"
      ],
      "metadata": {
        "colab": {
          "base_uri": "https://localhost:8080/"
        },
        "id": "NQJ65ONFm0l8",
        "outputId": "a66ee15b-721d-4189-eb08-5b04e6f728da"
      },
      "execution_count": null,
      "outputs": [
        {
          "output_type": "stream",
          "name": "stdout",
          "text": [
            "Area of Circle: 78.54\n",
            "Area of Rectangle: 24\n"
          ]
        }
      ]
    },
    {
      "cell_type": "markdown",
      "source": [
        "Q9. Demonstrate polymorphism by creating a function that can work with different shape objects to calculate and print their areas.\n",
        "\n",
        "     Ans:"
      ],
      "metadata": {
        "id": "plUqojXlnLOK"
      }
    },
    {
      "cell_type": "code",
      "source": [
        "from abc import ABC, abstractmethod\n",
        "import math\n",
        "\n",
        "# Abstract base class\n",
        "class Shape(ABC):\n",
        "    @abstractmethod\n",
        "    def area(self):\n",
        "        \"\"\"Abstract method to calculate the area of the shape.\"\"\"\n",
        "        pass\n",
        "\n",
        "# Subclass for Circle\n",
        "class Circle(Shape):\n",
        "    def __init__(self, radius):\n",
        "        self.radius = radius\n",
        "\n",
        "    def area(self):\n",
        "        \"\"\"Calculate the area of a circle.\"\"\"\n",
        "        return math.pi * self.radius ** 2\n",
        "\n",
        "def print_area(shape):\n",
        "    \"\"\"Function that works with any Shape object to print its area.\"\"\"\n",
        "    print(f\"The area of the {type(shape).__name__} is: {shape.area():.2f}\")\n",
        "\n",
        "circle = Circle(6)  # Circle with radius 6\n",
        "\n",
        "print_area(circle)"
      ],
      "metadata": {
        "colab": {
          "base_uri": "https://localhost:8080/"
        },
        "id": "uONF0jfHnyAF",
        "outputId": "c7839243-0c7b-436d-9254-a03f6dfc4634"
      },
      "execution_count": null,
      "outputs": [
        {
          "output_type": "stream",
          "name": "stdout",
          "text": [
            "The area of the Circle is: 113.10\n"
          ]
        }
      ]
    },
    {
      "cell_type": "markdown",
      "source": [
        "Q10.. Implement encapsulation in a `BankAccount` class with private attributes for `balance` and `account_number`. Include methods for deposit, withdrawal, and balance inquiry\n",
        "\n",
        "    Ans:"
      ],
      "metadata": {
        "id": "rircV7dxovAW"
      }
    },
    {
      "cell_type": "code",
      "source": [
        "class BankAccount:\n",
        "    def __init__(self, account_number, initial_balance=0):\n",
        "        # Private attributes\n",
        "        self.__account_number = account_number\n",
        "        self.__balance = initial_balance\n",
        "\n",
        "    # Public method to deposit money\n",
        "    def deposit(self, amount):\n",
        "        if amount > 0:\n",
        "            self.__balance += amount\n",
        "            print(f\"Deposited: {amount}. New balance: {self.__balance}\")\n",
        "        else:\n",
        "            print(\"Deposit amount must be positive.\")\n",
        "\n",
        "    # Public method to withdraw money\n",
        "    def withdraw(self, amount):\n",
        "        if amount > 0:\n",
        "            if self.__balance >= amount:\n",
        "                self.__balance -= amount\n",
        "                print(f\"Withdrawn: {amount}. Remaining balance: {self.__balance}\")\n",
        "            else:\n",
        "                print(\"Insufficient funds.\")\n",
        "        else:\n",
        "            print(\"Withdrawal amount must be positive.\")\n",
        "\n",
        "    # Public method to check balance\n",
        "    def get_balance(self):\n",
        "        return self.__balance\n",
        "\n",
        "    # Public method to get account number\n",
        "    def get_account_number(self):\n",
        "        return self.__account_number\n",
        "\n",
        "\n",
        "# Example usage\n",
        "account = BankAccount(account_number=\"123456789\", initial_balance=1000)\n",
        "\n",
        "# Deposit money\n",
        "account.deposit(500)  # Output: Deposited: 500. New balance: 1500\n",
        "\n",
        "# Withdraw money\n",
        "account.withdraw(300)  # Output: Withdrawn: 300. Remaining balance: 1200\n",
        "\n",
        "# Check balance\n",
        "print(f\"Balance: {account.get_balance()}\")  # Output: Balance: 1200\n",
        "\n",
        "# Access account number\n",
        "print(f\"Account Number: {account.get_account_number()}\")  # Output: Account Number: 123456789\n",
        "\n",
        "# Attempt to access private attributes directly (will raise an AttributeError)\n",
        "# print(account.__balance)  # Uncommenting this will raise an AttributeError\n",
        "# print(account.__account_number)  # Uncommenting this will raise an AttributeError\n"
      ],
      "metadata": {
        "colab": {
          "base_uri": "https://localhost:8080/"
        },
        "id": "xivaJTTvpBhp",
        "outputId": "5e9addfd-2821-4989-9c8c-d67d90e4a77c"
      },
      "execution_count": null,
      "outputs": [
        {
          "output_type": "stream",
          "name": "stdout",
          "text": [
            "Deposited: 500. New balance: 1500\n",
            "Withdrawn: 300. Remaining balance: 1200\n",
            "Balance: 1200\n",
            "Account Number: 123456789\n"
          ]
        }
      ]
    },
    {
      "cell_type": "markdown",
      "source": [
        "Q11.. Write a class that overrides the `__str__` and `__add__` magic methods. What will these methods allow you to do?\n",
        "     Ans:\n",
        "     The __str__ and __add__ magic methods in Python are used to customize the behavior of string representation and addition operations for objects of a class.\n",
        "\n",
        "     __str__: Overrides the string representation of an object, so it determines what is displayed when the object is printed or converted to a string with str().\n",
        "     __add__: Overrides the addition operator +, allowing you to define custom behavior for adding objects of the class.\n",
        "\n",
        "     What These Methods Allow You to Do:\n",
        "\n",
        "     __str__:\n",
        "        Provides a readable, user-friendly string representation of your objects. Useful for debugging or displaying information about the object.\n",
        "\n",
        "     __add__:\n",
        "        Enables custom addition behavior for objects, making your class compatible with the + operator.\n",
        "        Helps in creating intuitive and clean APIs for combining objects of your custom class.\n",
        "\n",
        "\n",
        "\n",
        "\n",
        "Q12.. Create a decorator that measures and prints the execution time of a function.\n",
        "\n",
        "     Ans:"
      ],
      "metadata": {
        "id": "IPuXHuAFpPzN"
      }
    },
    {
      "cell_type": "code",
      "source": [
        "import time\n",
        "\n",
        "# Define the decorator\n",
        "def measure_time(func):\n",
        "    def wrapper(*args, **kwargs):\n",
        "        start_time = time.time()  # Record the start time\n",
        "        result = func(*args, **kwargs)  # Call the original function\n",
        "        end_time = time.time()  # Record the end time\n",
        "        execution_time = end_time - start_time  # Calculate the execution time\n",
        "        print(f\"Function '{func.__name__}' executed in {execution_time:.4f} seconds\")\n",
        "        return result  # Return the result of the original function\n",
        "    return wrapper\n",
        "\n",
        "# Example usage\n",
        "@measure_time\n",
        "def Birthday_function(n):\n",
        "    \"\"\"A sample function that simulates a time-consuming task.\"\"\"\n",
        "    total = 0\n",
        "    for i in range(n):\n",
        "        total += i\n",
        "    return total\n",
        "\n",
        "# Call the function\n",
        "result = Birthday_function(5000000)  # Simulate a large computation\n",
        "print(f\"Result: {result}\")\n"
      ],
      "metadata": {
        "colab": {
          "base_uri": "https://localhost:8080/"
        },
        "id": "J0j-t5yjqOXy",
        "outputId": "2d1eb290-6fbc-4efc-dd67-13bd3bb66005"
      },
      "execution_count": null,
      "outputs": [
        {
          "output_type": "stream",
          "name": "stdout",
          "text": [
            "Function 'Birthday_function' executed in 0.5959 seconds\n",
            "Result: 12499997500000\n"
          ]
        }
      ]
    },
    {
      "cell_type": "markdown",
      "source": [
        "Q13. Explain the concept of the Diamond Problem in multiple inheritance. How does Python resolve it?\n",
        "\n",
        "     Ans:The Diamond Problem in Multiple Inheritance\n",
        "\n",
        "     The Diamond Problem arises in multiple inheritance, which occurs when a class inherits from two or more classes that have a common ancestor. It gets its name from the shape of the inheritance diagram, which resembles a diamond.\n",
        "     Illustrating the Diamond Problem\n",
        "\n",
        "     Consider the following class structure:\n",
        "\n",
        "       A\n",
        "     /   \\\n",
        "    B     C\n",
        "     \\   /\n",
        "      D\n",
        "      It refers to an ambiguity that arises when two classes B and C inherit from a superclass A and class D inherits from both B and C. If there is a method “m” which is an overridden method in one of B and C or both then the ambiguity arises which of the method “m” D should inherit.\n",
        "\n",
        "      How Python Resolves the Diamond Problem\n",
        "\n",
        "     Python uses the Method Resolution Order (MRO) to resolve ambiguities in multiple inheritance, following the C3 Linearization algorithm. The MRO defines the order in which Python looks for methods or attributes in the class hierarchy.\n",
        "\n",
        "\n",
        "Q14. Write a class method that keeps track of the number of instances created from a class\n",
        "\n",
        "     Ans:To keep track of the number of instances created from a class, you can use a class variable that increments each time a new instance is created. A class method can then be used to access this count.\n",
        "\n",
        "     Example:"
      ],
      "metadata": {
        "id": "cUFrVQpDrL3s"
      }
    },
    {
      "cell_type": "code",
      "source": [
        "class MyClass:\n",
        "    # Class variable to keep track of the instance count\n",
        "    instance_count = 0\n",
        "\n",
        "    def __init__(self):\n",
        "        # Increment the instance count every time an object is created\n",
        "        MyClass.instance_count += 1\n",
        "\n",
        "    @classmethod\n",
        "    def get_instance_count(cls):\n",
        "        \"\"\"Class method to return the number of instances created\"\"\"\n",
        "        return cls.instance_count\n",
        "\n",
        "# Example usage\n",
        "obj1 = MyClass()\n",
        "obj2 = MyClass()\n",
        "obj3 = MyClass()\n",
        "\n",
        "# Use the class method to get the instance count\n",
        "print(f\"Number of instances created: {MyClass.get_instance_count()}\")\n"
      ],
      "metadata": {
        "colab": {
          "base_uri": "https://localhost:8080/"
        },
        "id": "vOi90dOktTv5",
        "outputId": "4fcdda09-e2e1-479f-ab94-845639bcdbde"
      },
      "execution_count": null,
      "outputs": [
        {
          "output_type": "stream",
          "name": "stdout",
          "text": [
            "Number of instances created: 3\n"
          ]
        }
      ]
    },
    {
      "cell_type": "markdown",
      "source": [
        "Q15. Implement a static method in a class that checks if a given year is a leap year.\n",
        "\n",
        "     Ans:"
      ],
      "metadata": {
        "id": "eW7gy_f8tZgj"
      }
    },
    {
      "cell_type": "code",
      "source": [
        "class Year:\n",
        "\n",
        "    @staticmethod\n",
        "    def is_leap_year(year):\n",
        "        \"\"\"Static method to check if a given year is a leap year.\"\"\"\n",
        "        if (year % 4 == 0 and year % 100 != 0) or (year % 400 == 0):\n",
        "            return True\n",
        "        return False\n",
        "\n",
        "# Example usage\n",
        "year_to_check = 2023\n",
        "if Year.is_leap_year(year_to_check):\n",
        "    print(f\"{year_to_check} is a leap year.\")\n",
        "else:\n",
        "    print(f\"{year_to_check} is not a leap year.\")\n",
        "\n"
      ],
      "metadata": {
        "colab": {
          "base_uri": "https://localhost:8080/"
        },
        "id": "8M7kvs9jton0",
        "outputId": "d4853347-d6e9-4ae1-a1da-dc920975477f"
      },
      "execution_count": null,
      "outputs": [
        {
          "output_type": "stream",
          "name": "stdout",
          "text": [
            "2023 is not a leap year.\n",
            "2023 is not a leap year.\n"
          ]
        }
      ]
    }
  ]
}